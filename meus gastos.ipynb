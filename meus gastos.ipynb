{
 "cells": [
  {
   "cell_type": "markdown",
   "id": "48f6d945",
   "metadata": {},
   "source": [
    "### CLT"
   ]
  },
  {
   "cell_type": "code",
   "execution_count": null,
   "id": "65aea006",
   "metadata": {},
   "outputs": [],
   "source": [
    "salario = 1200\n",
    "gastos = 200\n",
    "internet = 200\n",
    "alimento = 1500\n",
    "agua = 100\n",
    "luz = 300\n",
    "condominio = 570\n",
    "entretenimento = 1200\n",
    "\n",
    "quanto_sobra ="
   ]
  }
 ],
 "metadata": {
  "kernelspec": {
   "display_name": "Python 3",
   "language": "python",
   "name": "python3"
  },
  "language_info": {
   "name": "python",
   "version": "3.13.2"
  }
 },
 "nbformat": 4,
 "nbformat_minor": 5
}

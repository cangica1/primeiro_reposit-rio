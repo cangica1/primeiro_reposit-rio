{
 "cells": [
  {
   "cell_type": "markdown",
   "id": "633160a3",
   "metadata": {},
   "source": [
    "### 📝Lista de Exercícios: Condicionais IF/ELSE"
   ]
  },
  {
   "cell_type": "markdown",
   "id": "605d2a7e",
   "metadata": {},
   "source": [
    "Exercício 1 - Maioridade 🔞\n",
    "\n",
    "Crie um programa que pergunta a idade do usuário e diz se ele é maior ou menor de idade."
   ]
  },
  {
   "cell_type": "code",
   "execution_count": 3,
   "id": "93ea230f",
   "metadata": {},
   "outputs": [
    {
     "name": "stdout",
     "output_type": "stream",
     "text": [
      "maior de idade\n"
     ]
    }
   ],
   "source": [
    "idade = int(input(\"Quantos anos você tem? \"))\n",
    "if idade >= 18 :\n",
    "    print(\"maior de idade\")\n",
    "\n",
    "else:\n",
    "    print(\"menor de idade\")\n",
    "\n"
   ]
  },
  {
   "cell_type": "markdown",
   "id": "6e9528f5",
   "metadata": {},
   "source": [
    "Exercício 2 - Aprovação na Prova 🧠\n",
    "\n",
    "Faça um programa que pergunte a nota de um aluno (0 a 10) e diz se ele foi aprovado(nota >= 5) ou reprovado (nota <5)."
   ]
  },
  {
   "cell_type": "code",
   "execution_count": 9,
   "id": "4a9f8f8b",
   "metadata": {},
   "outputs": [
    {
     "name": "stdout",
     "output_type": "stream",
     "text": [
      "voce foi reprovado, melhoras\n"
     ]
    }
   ],
   "source": [
    "nota = float(input(\"Informe a sua nota de (0 a 10)\"))\n",
    "if nota >= 5 :\n",
    " print(\"parabéns! vc foi aprovado\")\n",
    "else :\n",
    " print(\"voce foi reprovado, melhoras\")"
   ]
  },
  {
   "cell_type": "markdown",
   "id": "9f8e9b92",
   "metadata": {},
   "source": [
    "Exercicio 3 - CNH 🚘🚙\n",
    "\n",
    " 1º - Peça ao usuário que digite a idade dele.\n",
    "\n",
    " 2º - Peça pra ele dizer se foi aprovado ou reprovado no curso de cnh.\n",
    "\n",
    " 3º - Use if e else para verificar se ele tem 18 anos ou mais e se foi aprovado.\n",
    "\n",
    " 4º - Se as condições do passo 3 estiverem certas, print(\"pode dirigir\").\n",
    " \n",
    " 5º - Se não print(\"vai andar a pé\")"
   ]
  },
  {
   "cell_type": "code",
   "execution_count": 3,
   "id": "bee9f043",
   "metadata": {},
   "outputs": [
    {
     "name": "stdout",
     "output_type": "stream",
     "text": [
      "vc ainda nn pode dirigir\n"
     ]
    }
   ],
   "source": [
    "idade = int(input(\"qual a sua idade?\"))\n",
    "cnh = input(\"vc foi aprovado no curso de cnh? (sim ou não)?\")\n",
    "if idade >= 18 and cnh == \"sim\":\n",
    " print(\"parabéns vc ja pode dirigir\")\n",
    "else :\n",
    " print(\"vc ainda nn pode dirigir\")"
   ]
  },
  {
   "cell_type": "markdown",
   "id": "e9c60d12",
   "metadata": {},
   "source": [
    "Exercício 4 - Calculadora de Desconto. 💵 🤑\n",
    "\n",
    "Uma loja dá 10% de desconto para compras acima de R$ 100,00. Faça um programa que:\n",
    "\n",
    "1º - Pergunta o valor da compra.\n",
    "\n",
    "2º - Calcula o valor final com desconto (se aplicável).\n",
    "\n",
    "3º - Mostra o valor a pagar."
   ]
  },
  {
   "cell_type": "code",
   "execution_count": 8,
   "id": "5edc8855",
   "metadata": {},
   "outputs": [
    {
     "name": "stdout",
     "output_type": "stream",
     "text": [
      "voce tera o desconto de 10%, voce irá pagar 110.7\n"
     ]
    }
   ],
   "source": [
    "valor_compra = float(input(\"qual o valor da sua compra?\"))\n",
    "desconto = valor_compra * 0.10\n",
    "valor_final = valor_compra - desconto\n",
    "if valor_compra >= 100 :\n",
    "    print(f\"voce tera o desconto de 10%, voce irá pagar {valor_final}\")\n",
    "else:\n",
    "    print(f\"voce nao tera desconto, seu valor é {valor_compra}\")"
   ]
  },
  {
   "cell_type": "markdown",
   "id": "ec96b43c",
   "metadata": {},
   "source": [
    "Exercício 5 - Classificação de Notas 🧑‍🎓\n",
    "\n",
    "Pergunte a nota de um aluno e dependendo da nota que ele informar, o classifique de acordo com as regras abaixo:\n",
    "\n",
    "Classifique a nota do aluno:\n",
    "\n",
    "- 9 até 10: \"Excelente\"\n",
    "\n",
    "- 7 até 8.9: \"Bom\"\n",
    "\n",
    "- 5 até 6.9: \"Regular\"\n",
    "\n",
    "- 0 até 4.9: \"Reprovado\"\n",
    "\n",
    "mostre para o aluno a classificação dele através de um print, exemplo print(\"Excelente\")."
   ]
  },
  {
   "cell_type": "code",
   "execution_count": 11,
   "id": "465c6812",
   "metadata": {},
   "outputs": [
    {
     "name": "stdout",
     "output_type": "stream",
     "text": [
      "bom\n"
     ]
    }
   ],
   "source": [
    "nota = float(input(\"qual a sua nota?\"))\n",
    "if nota >= 9 and nota <= 10:\n",
    "    print(\"excelente\")\n",
    "elif  nota >= 7 and nota<=  8.9:\n",
    "    print(\"bom\")\n",
    "elif nota >= 5 and  nota <= 6.9: \n",
    "    print(\"regular\")\n",
    "else:\n",
    "    print(\"reprovado\")"
   ]
  },
  {
   "cell_type": "markdown",
   "id": "251b0fa7",
   "metadata": {},
   "source": [
    "Exercício 6 - Acesso ao Sistema 🔑\n",
    "\n",
    "Crie um login simples:\n",
    "\n",
    "- usuario_correto = \"admin\"\n",
    "\n",
    "- senha_correta = \"1234\"\n",
    "\n",
    "**Peça para o usuário digitar primeiro o login e depois a senha, caso login e senha estejam corretos programa deve mostrar \"Acesso permitido\" se não \"Acesso negado\"**\n"
   ]
  },
  {
   "cell_type": "code",
   "execution_count": 17,
   "id": "7fcf16db",
   "metadata": {},
   "outputs": [
    {
     "name": "stdout",
     "output_type": "stream",
     "text": [
      "acesso negado\n"
     ]
    }
   ],
   "source": [
    "usuario_correto = \"admin\"\n",
    "senha_correta = 1234\n",
    "\n",
    "login = input(\"qual o nome de usuário?\")\n",
    "senha = int(input(\"qual a sua senha?\"))\n",
    "if login == usuario_correto and senha == senha_correta:\n",
    "    print(f\"acesso permitido, seja bem vindo\")\n",
    "else:\n",
    "    print(\"acesso negado\")"
   ]
  },
  {
   "cell_type": "markdown",
   "id": "46c27406",
   "metadata": {},
   "source": [
    "Exercício 7 - Maior Número 📉\n",
    "\n",
    "Peça 3 números e mostre qual é o maior deles."
   ]
  },
  {
   "cell_type": "code",
   "execution_count": 1,
   "id": "916439ff",
   "metadata": {},
   "outputs": [
    {
     "name": "stdout",
     "output_type": "stream",
     "text": [
      "o maior numero é 90\n"
     ]
    }
   ],
   "source": [
    "num1 = int(input(\"qual seu primeiro numero?\"))\n",
    "num2 = int(input(\"qual seu segundo numero?\"))\n",
    "num3 = int(input(\"qual seu terceiro numero?\"))\n",
    "\n",
    "if num1 > num2 and num1 > num3 :\n",
    "    print(f\"o amior  numero é {num1}\")\n",
    "elif num2 > num1 and num2 >num3 :\n",
    "    print (f\" o maior numero é {num2}\")\n",
    "else:\n",
    "    print(f\"o maior numero é {num3}\")"
   ]
  },
  {
   "cell_type": "markdown",
   "id": "984fe0fe",
   "metadata": {},
   "source": [
    "Exercício 8 - Dia da Semana\n",
    "Peça um número de 1 a 7 e mostre o dia da semana correspondente: 📅\n",
    "\n",
    "- 1: Domingo\n",
    "\n",
    "- 2: Segunda\n",
    "\n",
    "- ... até 7: Sábado"
   ]
  },
  {
   "cell_type": "code",
   "execution_count": null,
   "id": "f34c6fbf",
   "metadata": {},
   "outputs": [
    {
     "name": "stdout",
     "output_type": "stream",
     "text": [
      "o dia escolhido foi quinta feira\n"
     ]
    }
   ],
   "source": [
    "numero = int(input(\"digite um numeron de 1 a 7\"))\n",
    "if numero == 1:\n",
    "    print(\"o dia da semana escolhido foi domingo\")\n",
    "elif numero == 2:\n",
    "    print(\"o dia da semana escolhido foi segunda\")\n",
    "elif numero == 3:\n",
    "    print(\"o dia da semana escolhido foi terça feira\")\n",
    "elif numero == 4:\n",
    "    print(\"o dia da semana escolhido foi quarta\")\n",
    "elif numero == 5:\n",
    "    print(\"o dia da semana escolhido foi quinta feira\")\n",
    "else:\n",
    "    print(\"o dia da semana escolhido foi sexta feira\")"
   ]
  },
  {
   "cell_type": "markdown",
   "id": "f1f760b7",
   "metadata": {},
   "source": [
    "Exercício 9 - Calculadora Simples 📏📐\n",
    "\n",
    "- Faça uma calculadora que:\n",
    "\n",
    "- Pede dois números\n",
    "\n",
    "- Pede a operação (+, -, *, /)\n",
    "\n",
    "- Dependendo da operação mostre o resultado.\n",
    "\n"
   ]
  },
  {
   "cell_type": "code",
   "execution_count": 6,
   "id": "95c6ce03",
   "metadata": {},
   "outputs": [
    {
     "name": "stdout",
     "output_type": "stream",
     "text": [
      "a multiplicaçao dos dois numeros é igual a 2652\n"
     ]
    }
   ],
   "source": [
    "num1 = int(input(\"escolha um numero\"))\n",
    "num2 = int(input(\"escolha outro numero\"))\n",
    "operacao = input(\"qual tipo de conta voce quer fazer?\")\n",
    "\n",
    "soma = num1 + num2\n",
    "menos = num1 - num2\n",
    "multiplicar = num1 * num2\n",
    "dividir = num1 / num2\n",
    "\n",
    "if operacao == \"+\":\n",
    "    print(f\"A soma dos dois numeros deu {soma}\")\n",
    "elif operacao == \"-\":\n",
    "    print(f\"a subtraçao dos dois numeros é igual a {menos}\")\n",
    "elif operacao == \"*\":\n",
    "    print(f\"a multiplicaçao dos dois numeros é igual a {multiplicar}\")\n",
    "else:\n",
    "    print(f\"a divisao dos dois numeros é igual a {dividir}\")"
   ]
  },
  {
   "cell_type": "markdown",
   "id": "f39f6b73",
   "metadata": {},
   "source": [
    "Exercício 10 - Sistema de Multas 🚙🚘🧾\n",
    "\n",
    "\n",
    "- Velocidade máxima: 80 km/h 🚫\n",
    "\n",
    "- Até 80: \"Sem multa\"\n",
    "\n",
    "- 81-100: \"Multa leve\"\n",
    "\n",
    "- Acima de 100: \"Multa grave\""
   ]
  },
  {
   "cell_type": "code",
   "execution_count": 9,
   "id": "20fdc977",
   "metadata": {},
   "outputs": [
    {
     "name": "stdout",
     "output_type": "stream",
     "text": [
      "vc esta dentro da velocidade permitida\n"
     ]
    }
   ],
   "source": [
    "velocidade = int(input(\"qual foi sua velocidade na pista?\"))\n",
    "if velocidade > 0 and velocidade <= 80:\n",
    "    print(\"vc esta dentro da velocidade permitida\")\n",
    "elif velocidade >= 81 and velocidade <= 100:\n",
    "    print(\"vc ultrapassou da velocidade permitida, multa leve.\")\n",
    "else:\n",
    "    print(\"vc ultrapassou completamente o a velocidade permitida, multa grave.\")"
   ]
  }
 ],
 "metadata": {
  "kernelspec": {
   "display_name": "Python 3",
   "language": "python",
   "name": "python3"
  },
  "language_info": {
   "codemirror_mode": {
    "name": "ipython",
    "version": 3
   },
   "file_extension": ".py",
   "mimetype": "text/x-python",
   "name": "python",
   "nbconvert_exporter": "python",
   "pygments_lexer": "ipython3",
   "version": "3.13.2"
  }
 },
 "nbformat": 4,
 "nbformat_minor": 5
}

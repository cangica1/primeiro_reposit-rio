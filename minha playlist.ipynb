{
 "cells": [
  {
   "cell_type": "markdown",
   "id": "0bde7675",
   "metadata": {},
   "source": [
    "### Minha Playlist"
   ]
  },
  {
   "cell_type": "code",
   "execution_count": 3,
   "id": "1bd7b151",
   "metadata": {},
   "outputs": [
    {
     "name": "stdout",
     "output_type": "stream",
     "text": [
      "your girl\n"
     ]
    }
   ],
   "source": [
    "playlist = [\"Shades of cool\" , \"i was all over her\", \"Sienna\", \"your girl\",\"outra vida\"]\n",
    "print(playlist [3])"
   ]
  }
 ],
 "metadata": {
  "kernelspec": {
   "display_name": "Python 3",
   "language": "python",
   "name": "python3"
  },
  "language_info": {
   "codemirror_mode": {
    "name": "ipython",
    "version": 3
   },
   "file_extension": ".py",
   "mimetype": "text/x-python",
   "name": "python",
   "nbconvert_exporter": "python",
   "pygments_lexer": "ipython3",
   "version": "3.13.2"
  }
 },
 "nbformat": 4,
 "nbformat_minor": 5
}

{
 "cells": [
  {
   "cell_type": "code",
   "execution_count": 1,
   "id": "2e79cc9a",
   "metadata": {},
   "outputs": [],
   "source": [
    "import pyautogui as aut\n"
   ]
  },
  {
   "cell_type": "code",
   "execution_count": 2,
   "id": "891ae5eb",
   "metadata": {},
   "outputs": [],
   "source": [
    "#importando pyautogui e apelidando ele de aut\n",
    "\n",
    "#pressiono a tecla de atalho win + r\n",
    "aut.hotkey(\"win\", \"r\")\n",
    "#escrever notepad\n",
    "aut.write(\"notepad\", interval = 0.2)\n",
    "#espere 1 segundo\n",
    "aut.sleep(1)\n",
    "#aperte o enter\n",
    "aut.press(\"Enter\")\n",
    "aut.sleep(1)\n",
    "aut.moveTo(152,203)\n",
    "aut.click()\n",
    "aut.sleep(1)\n",
    "aut.write(\"giovana banana\", interval =0.2)"
   ]
  },
  {
   "cell_type": "code",
   "execution_count": 42,
   "id": "27b20a81",
   "metadata": {},
   "outputs": [],
   "source": [
    "aut.mouseInfo()\n"
   ]
  },
  {
   "cell_type": "markdown",
   "id": "644d034a",
   "metadata": {},
   "source": [
    "### Video do Youtube \n",
    "\n",
    "\n"
   ]
  },
  {
   "cell_type": "code",
   "execution_count": 21,
   "id": "33d06380",
   "metadata": {},
   "outputs": [],
   "source": [
    "import pyautogui as aut\n",
    "aut.hotkey(\"win\", \"r\")\n",
    "aut.write(\"chrome\", interval = 0.2)\n",
    "aut.sleep(1)\n",
    "aut.press(\"Enter\")\n",
    "aut.moveTo(961,586)\n",
    "aut.sleep(0.5)\n",
    "aut.click()\n",
    "aut.sleep(1)\n",
    "aut.moveTo(575,59)\n",
    "aut.sleep(0.3)\n",
    "aut.click()\n",
    "aut.write(\"https://youtu.be/9f5zD7ZSNpQ?si=ojeSnf5cn0irYTEW\", interval = 0.03)\n",
    "aut.sleep(0.4)\n",
    "aut.press(\"Enter\")\n"
   ]
  },
  {
   "cell_type": "code",
   "execution_count": 56,
   "id": "7d4c95cb",
   "metadata": {},
   "outputs": [],
   "source": [
    "aut.mouseInfo()"
   ]
  },
  {
   "cell_type": "markdown",
   "id": "e6b8d692",
   "metadata": {},
   "source": [
    "### Calculadora"
   ]
  },
  {
   "cell_type": "code",
   "execution_count": 49,
   "id": "077ec792",
   "metadata": {},
   "outputs": [],
   "source": [
    "import pyautogui as aut\n",
    "aut.hotkey(\"win\")\n",
    "aut.write(\"calculadora\" , interval = 0.2)\n",
    "aut.sleep(1)\n",
    "aut.press(\"Enter\")\n",
    "aut.sleep(1)\n",
    "aut.moveTo(1442,256)\n",
    "aut.click()\n",
    "aut.sleep(0.5)\n",
    "aut.moveTo(1265,521)\n",
    "aut.sleep(0.5)\n",
    "aut.click()\n",
    "aut.sleep(0.5)\n",
    "aut.moveTo(1417,556)\n",
    "aut.sleep(0.4)\n",
    "aut.click()\n",
    "aut.moveTo(1188,455)\n",
    "aut.sleep(0.4)\n",
    "aut.click()\n",
    "aut.sleep(0.5)\n",
    "aut.moveTo(1437,617)\n",
    "aut.click()\n"
   ]
  },
  {
   "cell_type": "code",
   "execution_count": 84,
   "id": "399c2809",
   "metadata": {},
   "outputs": [
    {
     "ename": "KeyboardInterrupt",
     "evalue": "",
     "output_type": "error",
     "traceback": [
      "\u001b[31m---------------------------------------------------------------------------\u001b[39m",
      "\u001b[31mKeyboardInterrupt\u001b[39m                         Traceback (most recent call last)",
      "\u001b[36mCell\u001b[39m\u001b[36m \u001b[39m\u001b[32mIn[84]\u001b[39m\u001b[32m, line 1\u001b[39m\n\u001b[32m----> \u001b[39m\u001b[32m1\u001b[39m \u001b[43maut\u001b[49m\u001b[43m.\u001b[49m\u001b[43mmouseInfo\u001b[49m\u001b[43m(\u001b[49m\u001b[43m)\u001b[49m\n",
      "\u001b[36mFile \u001b[39m\u001b[32m~\\AppData\\Roaming\\Python\\Python313\\site-packages\\pyautogui\\__init__.py:253\u001b[39m, in \u001b[36mmouseInfo\u001b[39m\u001b[34m()\u001b[39m\n\u001b[32m    248\u001b[39m \u001b[38;5;28;01mdef\u001b[39;00m\u001b[38;5;250m \u001b[39m\u001b[34mmouseInfo\u001b[39m():\n\u001b[32m    249\u001b[39m \u001b[38;5;250m    \u001b[39m\u001b[33;03m\"\"\"\u001b[39;00m\n\u001b[32m    250\u001b[39m \u001b[33;03m    Launches the MouseInfo app. This application provides mouse coordinate information which can be useful when\u001b[39;00m\n\u001b[32m    251\u001b[39m \u001b[33;03m    planning GUI automation tasks. This function blocks until the application is closed.\u001b[39;00m\n\u001b[32m    252\u001b[39m \u001b[33;03m    \"\"\"\u001b[39;00m\n\u001b[32m--> \u001b[39m\u001b[32m253\u001b[39m     \u001b[43mmouseinfo\u001b[49m\u001b[43m.\u001b[49m\u001b[43mMouseInfoWindow\u001b[49m\u001b[43m(\u001b[49m\u001b[43m)\u001b[49m\n",
      "\u001b[36mFile \u001b[39m\u001b[32m~\\AppData\\Roaming\\Python\\Python313\\site-packages\\mouseinfo\\__init__.py:878\u001b[39m, in \u001b[36mMouseInfoWindow.__init__\u001b[39m\u001b[34m(self)\u001b[39m\n\u001b[32m    875\u001b[39m \u001b[38;5;28mself\u001b[39m.root.update()\n\u001b[32m    877\u001b[39m \u001b[38;5;66;03m# Start the application:\u001b[39;00m\n\u001b[32m--> \u001b[39m\u001b[32m878\u001b[39m \u001b[38;5;28;43mself\u001b[39;49m\u001b[43m.\u001b[49m\u001b[43mroot\u001b[49m\u001b[43m.\u001b[49m\u001b[43mmainloop\u001b[49m\u001b[43m(\u001b[49m\u001b[43m)\u001b[49m\n\u001b[32m    880\u001b[39m \u001b[38;5;66;03m# Application has closed, set isRunning to False and cancel any \"after\" commands already queued:\u001b[39;00m\n\u001b[32m    881\u001b[39m \u001b[38;5;28mself\u001b[39m.root.after_cancel(\u001b[38;5;28mself\u001b[39m._updateMouseInfoJob)\n",
      "\u001b[36mFile \u001b[39m\u001b[32mc:\\Program Files\\Python313\\Lib\\tkinter\\__init__.py:1599\u001b[39m, in \u001b[36mMisc.mainloop\u001b[39m\u001b[34m(self, n)\u001b[39m\n\u001b[32m   1597\u001b[39m \u001b[38;5;28;01mdef\u001b[39;00m\u001b[38;5;250m \u001b[39m\u001b[34mmainloop\u001b[39m(\u001b[38;5;28mself\u001b[39m, n=\u001b[32m0\u001b[39m):\n\u001b[32m   1598\u001b[39m \u001b[38;5;250m    \u001b[39m\u001b[33;03m\"\"\"Call the mainloop of Tk.\"\"\"\u001b[39;00m\n\u001b[32m-> \u001b[39m\u001b[32m1599\u001b[39m     \u001b[38;5;28;43mself\u001b[39;49m\u001b[43m.\u001b[49m\u001b[43mtk\u001b[49m\u001b[43m.\u001b[49m\u001b[43mmainloop\u001b[49m\u001b[43m(\u001b[49m\u001b[43mn\u001b[49m\u001b[43m)\u001b[49m\n",
      "\u001b[31mKeyboardInterrupt\u001b[39m: "
     ]
    }
   ],
   "source": [
    "aut.mouseInfo()"
   ]
  },
  {
   "cell_type": "markdown",
   "id": "7ca28429",
   "metadata": {},
   "source": [
    "### Desenho"
   ]
  },
  {
   "cell_type": "code",
   "execution_count": null,
   "id": "42eac107",
   "metadata": {},
   "outputs": [
    {
     "ename": "",
     "evalue": "",
     "output_type": "error",
     "traceback": [
      "\u001b[1;31mO Kernel deu pane ao executar o código na célula atual ou em uma célula anterior. \n",
      "\u001b[1;31mAnalise o código nas células para identificar uma possível causa da pane. \n",
      "\u001b[1;31mClique <a href='https://aka.ms/vscodeJupyterKernelCrash'>aqui</a> para obter mais informações. \n",
      "\u001b[1;31mConsulte Jupyter <a href='command:jupyter.viewOutput'>log</a> para obter mais detalhes."
     ]
    }
   ],
   "source": [
    "import pyautogui as aut\n",
    "\n",
    "aut.press(\"win\")\n",
    "aut.sleep(1)\n",
    "aut.write(\"paint\", interval = 0.5)\n",
    "aut.sleep(1)\n",
    "aut.press(\"enter\")\n",
    "aut.moveTo(720,202)\n",
    "aut.sleep(0.5)\n",
    "aut.click()\n",
    "aut.sleep(0.2)\n",
    "\n",
    "aut.moveTo(698,586)\n",
    "aut.mouseDown()\n",
    "\n",
    "aut.sleep(0.2)\n"
   ]
  }
 ],
 "metadata": {
  "kernelspec": {
   "display_name": "Python 3",
   "language": "python",
   "name": "python3"
  },
  "language_info": {
   "codemirror_mode": {
    "name": "ipython",
    "version": 3
   },
   "file_extension": ".py",
   "mimetype": "text/x-python",
   "name": "python",
   "nbconvert_exporter": "python",
   "pygments_lexer": "ipython3",
   "version": "3.13.2"
  }
 },
 "nbformat": 4,
 "nbformat_minor": 5
}
